{
 "cells": [
  {
   "cell_type": "code",
   "execution_count": 1,
   "id": "8aaa7fd6",
   "metadata": {},
   "outputs": [
    {
     "name": "stdout",
     "output_type": "stream",
     "text": [
      "Requirement already satisfied: tkintertable in c:\\programdata\\anaconda3\\lib\\site-packages (1.3.3)\n",
      "Requirement already satisfied: future in c:\\programdata\\anaconda3\\lib\\site-packages (from tkintertable) (0.18.2)\n",
      "Note: you may need to restart the kernel to use updated packages.\n"
     ]
    }
   ],
   "source": [
    "pip install tkintertable"
   ]
  },
  {
   "cell_type": "code",
   "execution_count": 2,
   "id": "9ec665f1",
   "metadata": {},
   "outputs": [
    {
     "name": "stdout",
     "output_type": "stream",
     "text": [
      "Collecting pytest-timeit\n",
      "  Downloading pytest-timeit-0.3.0.tar.gz (5.4 kB)\n",
      "Requirement already satisfied: pytest>=3.0.0 in c:\\programdata\\anaconda3\\lib\\site-packages (from pytest-timeit) (7.1.1)\n",
      "Requirement already satisfied: attrs>=19.2.0 in c:\\programdata\\anaconda3\\lib\\site-packages (from pytest>=3.0.0->pytest-timeit) (21.4.0)\n",
      "Requirement already satisfied: iniconfig in c:\\programdata\\anaconda3\\lib\\site-packages (from pytest>=3.0.0->pytest-timeit) (1.1.1)\n",
      "Requirement already satisfied: packaging in c:\\programdata\\anaconda3\\lib\\site-packages (from pytest>=3.0.0->pytest-timeit) (21.3)\n",
      "Requirement already satisfied: pluggy<2.0,>=0.12 in c:\\programdata\\anaconda3\\lib\\site-packages (from pytest>=3.0.0->pytest-timeit) (1.0.0)\n",
      "Requirement already satisfied: py>=1.8.2 in c:\\programdata\\anaconda3\\lib\\site-packages (from pytest>=3.0.0->pytest-timeit) (1.11.0)\n",
      "Requirement already satisfied: tomli>=1.0.0 in c:\\programdata\\anaconda3\\lib\\site-packages (from pytest>=3.0.0->pytest-timeit) (1.2.2)\n",
      "Requirement already satisfied: atomicwrites>=1.0 in c:\\programdata\\anaconda3\\lib\\site-packages (from pytest>=3.0.0->pytest-timeit) (1.4.0)\n",
      "Requirement already satisfied: colorama in c:\\programdata\\anaconda3\\lib\\site-packages (from pytest>=3.0.0->pytest-timeit) (0.4.4)\n",
      "Requirement already satisfied: pyparsing!=3.0.5,>=2.0.2 in c:\\programdata\\anaconda3\\lib\\site-packages (from packaging->pytest>=3.0.0->pytest-timeit) (3.0.4)\n",
      "Building wheels for collected packages: pytest-timeit\n",
      "  Building wheel for pytest-timeit (setup.py): started\n",
      "  Building wheel for pytest-timeit (setup.py): finished with status 'done'\n",
      "  Created wheel for pytest-timeit: filename=pytest_timeit-0.3.0-py2.py3-none-any.whl size=5481 sha256=d518a3a95b62f96af12155fbca7ea047c0097ea19f3f756329b15f8bba94e329\n",
      "  Stored in directory: c:\\users\\devil\\appdata\\local\\pip\\cache\\wheels\\f1\\de\\cc\\b4930ec073091d7bbc6ef36a09888b7e5d33157af2ee53e8c2\n",
      "Successfully built pytest-timeit\n",
      "Installing collected packages: pytest-timeit\n",
      "Successfully installed pytest-timeit-0.3.0\n",
      "Note: you may need to restart the kernel to use updated packages.\n"
     ]
    }
   ],
   "source": [
    "pip install pytest-timeit"
   ]
  },
  {
   "cell_type": "code",
   "execution_count": 3,
   "id": "45896c18",
   "metadata": {},
   "outputs": [
    {
     "name": "stdout",
     "output_type": "stream",
     "text": [
      "Wrong Input\n",
      "20.7933769\n",
      "5.1938755000000185\n"
     ]
    }
   ],
   "source": [
    "# importing all libraries\n",
    "from tkinter import *\n",
    "from timeit import default_timer as timer\n",
    "import random\n",
    "\n",
    "# creating window using gui\n",
    "window = Tk()\n",
    "\n",
    "# the size of the window is defined\n",
    "window.geometry(\"450x200\")\n",
    "\n",
    "x = 0\n",
    "\n",
    "# defining the function for the test\n",
    "def game():\n",
    "\tglobal x\n",
    "\n",
    "\t# loop for destroying the window\n",
    "\t# after on test\n",
    "\tif x == 0:\n",
    "\t\twindow.destroy()\n",
    "\t\tx = x+1\n",
    "\n",
    "\t# defining function for results of test\n",
    "\tdef check_result():\n",
    "\t\tif entry.get() == words[word]:\n",
    "\n",
    "\t\t\t# here start time is when the window\n",
    "\t\t\t# is opened and end time is when\n",
    "\t\t\t# window is destroyed\n",
    "\t\t\tend = timer()\n",
    "\n",
    "\t\t\t# we deduct the start time from end\n",
    "\t\t\t# time and calculate results using\n",
    "\t\t\t# timeit function\n",
    "\t\t\tprint(end-start)\n",
    "\t\telse:\n",
    "\t\t\tprint(\"Wrong Input\")\n",
    "\n",
    "\twords = ['programming', 'coding', 'algorithm',\n",
    "\t\t\t'systems', 'python', 'software']\n",
    "\n",
    "\t# Give random words for testing the speed of user\n",
    "\tword = random.randint(0, (len(words)-1))\n",
    "\n",
    "\t# start timer using timeit function\n",
    "\tstart = timer()\n",
    "\twindows = Tk()\n",
    "\twindows.geometry(\"450x200\")\n",
    "\n",
    "\t# use label method of tkinter for labeling in window\n",
    "\tx2 = Label(windows, text=words[word], font=\"times 20\")\n",
    "\n",
    "\t# place of labeling in window\n",
    "\tx2.place(x=150, y=10)\n",
    "\tx3 = Label(windows, text=\"Start Typing\", font=\"times 20\")\n",
    "\tx3.place(x=10, y=50)\n",
    "\n",
    "\tentry = Entry(windows)\n",
    "\tentry.place(x=280, y=55)\n",
    "\n",
    "\t# buttons to submit output and check results\n",
    "\tb2 = Button(windows, text=\"Done\",\n",
    "\t\t\t\tcommand=check_result, width=12, bg='grey')\n",
    "\tb2.place(x=150, y=100)\n",
    "\n",
    "\tb3 = Button(windows, text=\"Try Again\",\n",
    "\t\t\t\tcommand=game, width=12, bg='grey')\n",
    "\tb3.place(x=250, y=100)\n",
    "\twindows.mainloop()\n",
    "\n",
    "\n",
    "x1 = Label(window, text=\"Lets start playing..\", font=\"times 20\")\n",
    "x1.place(x=10, y=50)\n",
    "\n",
    "b1 = Button(window, text=\"Go\", command=game, width=12, bg='grey')\n",
    "b1.place(x=150, y=100)\n",
    "\n",
    "# calling window\n",
    "window.mainloop()"
   ]
  },
  {
   "cell_type": "code",
   "execution_count": null,
   "id": "b6c20473",
   "metadata": {},
   "outputs": [],
   "source": []
  }
 ],
 "metadata": {
  "kernelspec": {
   "display_name": "Python 3 (ipykernel)",
   "language": "python",
   "name": "python3"
  },
  "language_info": {
   "codemirror_mode": {
    "name": "ipython",
    "version": 3
   },
   "file_extension": ".py",
   "mimetype": "text/x-python",
   "name": "python",
   "nbconvert_exporter": "python",
   "pygments_lexer": "ipython3",
   "version": "3.9.12"
  }
 },
 "nbformat": 4,
 "nbformat_minor": 5
}
